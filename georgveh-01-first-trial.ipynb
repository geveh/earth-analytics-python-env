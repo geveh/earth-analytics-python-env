{
 "cells": [
  {
   "cell_type": "markdown",
   "metadata": {},
   "source": [
    "# Titel\n"
   ]
  },
  {
   "cell_type": "code",
   "execution_count": null,
   "metadata": {},
   "outputs": [],
   "source": [
    "**hi\n"
   ]
  },
  {
   "cell_type": "markdown",
   "metadata": {},
   "source": [
    "# subitel"
   ]
  },
  {
   "cell_type": "markdown",
   "metadata": {},
   "source": [
    "This is a subtitle in Markdown\n",
    "\n",
    "## This is a smaller subtitle\n",
    "\n",
    "### This is an even smaller subtitle\n"
   ]
  },
  {
   "cell_type": "code",
   "execution_count": 2,
   "metadata": {},
   "outputs": [
    {
     "data": {
      "text/plain": [
       "4096"
      ]
     },
     "execution_count": 2,
     "metadata": {},
     "output_type": "execute_result"
    }
   ],
   "source": [
    "( 3 + 5 )**4\n"
   ]
  },
  {
   "cell_type": "markdown",
   "metadata": {},
   "source": [
    "* hi\n",
    "\n",
    "*different*\n",
    "\n",
    "**same same**\n",
    "\n",
    "`could be code`\n",
    "\n",
    "***\n",
    "\n",
    "looks cool?\n",
    "\n",
    "***\n",
    "\n",
    "Our program website can be found at <a href=\"http://earthdatascience.org\" target=\"_blank\">this link</a>.\n",
    "\n",
    "\n",
    "![Markdown Logo is here.](https://www.fullstackpython.com/img/logos/markdown.png)\n",
    "\n"
   ]
  }
 ],
 "metadata": {
  "kernelspec": {
   "display_name": "Python 3",
   "language": "python",
   "name": "python3"
  },
  "language_info": {
   "codemirror_mode": {
    "name": "ipython",
    "version": 3
   },
   "file_extension": ".py",
   "mimetype": "text/x-python",
   "name": "python",
   "nbconvert_exporter": "python",
   "pygments_lexer": "ipython3",
   "version": "3.7.6"
  }
 },
 "nbformat": 4,
 "nbformat_minor": 4
}
